{
 "cells": [
  {
   "cell_type": "code",
   "execution_count": 170,
   "id": "97e87e0f",
   "metadata": {},
   "outputs": [],
   "source": [
    "import numpy as np\n",
    "import random\n",
    "import talib as ta\n",
    "import pandas as pd\n",
    "from sklearn.model_selection import train_test_split\n",
    "import matplotlib.pyplot as plt\n",
    "import seaborn as sns\n",
    "from datetime import datetime,date"
   ]
  },
  {
   "cell_type": "code",
   "execution_count": 10,
   "id": "4b2775dc",
   "metadata": {},
   "outputs": [
    {
     "data": {
      "text/html": [
       "<div>\n",
       "<style scoped>\n",
       "    .dataframe tbody tr th:only-of-type {\n",
       "        vertical-align: middle;\n",
       "    }\n",
       "\n",
       "    .dataframe tbody tr th {\n",
       "        vertical-align: top;\n",
       "    }\n",
       "\n",
       "    .dataframe thead th {\n",
       "        text-align: right;\n",
       "    }\n",
       "</style>\n",
       "<table border=\"1\" class=\"dataframe\">\n",
       "  <thead>\n",
       "    <tr style=\"text-align: right;\">\n",
       "      <th></th>\n",
       "      <th>Date</th>\n",
       "      <th>Close/Last</th>\n",
       "      <th>Volume</th>\n",
       "      <th>Open</th>\n",
       "      <th>High</th>\n",
       "      <th>Low</th>\n",
       "    </tr>\n",
       "  </thead>\n",
       "  <tbody>\n",
       "    <tr>\n",
       "      <th>0</th>\n",
       "      <td>02/28/2020</td>\n",
       "      <td>$273.36</td>\n",
       "      <td>106721200</td>\n",
       "      <td>$257.26</td>\n",
       "      <td>$278.41</td>\n",
       "      <td>$256.37</td>\n",
       "    </tr>\n",
       "    <tr>\n",
       "      <th>1</th>\n",
       "      <td>02/27/2020</td>\n",
       "      <td>$273.52</td>\n",
       "      <td>80151380</td>\n",
       "      <td>$281.1</td>\n",
       "      <td>$286</td>\n",
       "      <td>$272.96</td>\n",
       "    </tr>\n",
       "    <tr>\n",
       "      <th>2</th>\n",
       "      <td>02/26/2020</td>\n",
       "      <td>$292.65</td>\n",
       "      <td>49678430</td>\n",
       "      <td>$286.53</td>\n",
       "      <td>$297.88</td>\n",
       "      <td>$286.5</td>\n",
       "    </tr>\n",
       "    <tr>\n",
       "      <th>3</th>\n",
       "      <td>02/25/2020</td>\n",
       "      <td>$288.08</td>\n",
       "      <td>57668360</td>\n",
       "      <td>$300.95</td>\n",
       "      <td>$302.53</td>\n",
       "      <td>$286.13</td>\n",
       "    </tr>\n",
       "    <tr>\n",
       "      <th>4</th>\n",
       "      <td>02/24/2020</td>\n",
       "      <td>$298.18</td>\n",
       "      <td>55548830</td>\n",
       "      <td>$297.26</td>\n",
       "      <td>$304.18</td>\n",
       "      <td>$289.23</td>\n",
       "    </tr>\n",
       "  </tbody>\n",
       "</table>\n",
       "</div>"
      ],
      "text/plain": [
       "         Date  Close/Last     Volume      Open      High       Low\n",
       "0  02/28/2020     $273.36  106721200   $257.26   $278.41   $256.37\n",
       "1  02/27/2020     $273.52   80151380    $281.1      $286   $272.96\n",
       "2  02/26/2020     $292.65   49678430   $286.53   $297.88    $286.5\n",
       "3  02/25/2020     $288.08   57668360   $300.95   $302.53   $286.13\n",
       "4  02/24/2020     $298.18   55548830   $297.26   $304.18   $289.23"
      ]
     },
     "execution_count": 10,
     "metadata": {},
     "output_type": "execute_result"
    }
   ],
   "source": [
    "data=pd.read_csv('HistoricalQuotes.csv')\n",
    "data.head()"
   ]
  },
  {
   "cell_type": "code",
   "execution_count": 11,
   "id": "e05e91ab",
   "metadata": {},
   "outputs": [
    {
     "data": {
      "text/plain": [
       "False"
      ]
     },
     "execution_count": 11,
     "metadata": {},
     "output_type": "execute_result"
    }
   ],
   "source": [
    "data.isnull().values.any()"
   ]
  },
  {
   "cell_type": "code",
   "execution_count": 12,
   "id": "07dec413",
   "metadata": {},
   "outputs": [],
   "source": [
    "#rename column to remove spaces in column names\n",
    "aapl =data.rename(columns={' Close/Last': 'close', ' Volume': 'volume',\n",
    "                           ' Open':'open',' High':'high',' Low':'low'})\n"
   ]
  },
  {
   "cell_type": "code",
   "execution_count": 13,
   "id": "880708b3",
   "metadata": {},
   "outputs": [],
   "source": [
    "#change date string into date format and sort the dataframe in ascending order\n",
    "aapl[['Date']] = aapl[['Date']].applymap(lambda x: datetime.strptime(x,'%m/%d/%Y').date())\n",
    "aapl =aapl.sort_values(by='Date')\n"
   ]
  },
  {
   "cell_type": "code",
   "execution_count": 14,
   "id": "108ba92a",
   "metadata": {},
   "outputs": [
    {
     "data": {
      "text/html": [
       "<div>\n",
       "<style scoped>\n",
       "    .dataframe tbody tr th:only-of-type {\n",
       "        vertical-align: middle;\n",
       "    }\n",
       "\n",
       "    .dataframe tbody tr th {\n",
       "        vertical-align: top;\n",
       "    }\n",
       "\n",
       "    .dataframe thead th {\n",
       "        text-align: right;\n",
       "    }\n",
       "</style>\n",
       "<table border=\"1\" class=\"dataframe\">\n",
       "  <thead>\n",
       "    <tr style=\"text-align: right;\">\n",
       "      <th></th>\n",
       "      <th>Date</th>\n",
       "      <th>close</th>\n",
       "      <th>volume</th>\n",
       "      <th>open</th>\n",
       "      <th>high</th>\n",
       "      <th>low</th>\n",
       "    </tr>\n",
       "  </thead>\n",
       "  <tbody>\n",
       "    <tr>\n",
       "      <th>2517</th>\n",
       "      <td>2010-03-01</td>\n",
       "      <td>29.8557</td>\n",
       "      <td>137312041</td>\n",
       "      <td>29.3928</td>\n",
       "      <td>29.9286</td>\n",
       "      <td>29.3500</td>\n",
       "    </tr>\n",
       "    <tr>\n",
       "      <th>2516</th>\n",
       "      <td>2010-03-02</td>\n",
       "      <td>29.8357</td>\n",
       "      <td>141486282</td>\n",
       "      <td>29.9900</td>\n",
       "      <td>30.1186</td>\n",
       "      <td>29.6771</td>\n",
       "    </tr>\n",
       "    <tr>\n",
       "      <th>2515</th>\n",
       "      <td>2010-03-03</td>\n",
       "      <td>29.9043</td>\n",
       "      <td>92846488</td>\n",
       "      <td>29.8486</td>\n",
       "      <td>29.9814</td>\n",
       "      <td>29.7057</td>\n",
       "    </tr>\n",
       "    <tr>\n",
       "      <th>2514</th>\n",
       "      <td>2010-03-04</td>\n",
       "      <td>30.1014</td>\n",
       "      <td>89591907</td>\n",
       "      <td>29.8971</td>\n",
       "      <td>30.1314</td>\n",
       "      <td>29.8043</td>\n",
       "    </tr>\n",
       "    <tr>\n",
       "      <th>2513</th>\n",
       "      <td>2010-03-05</td>\n",
       "      <td>31.2786</td>\n",
       "      <td>224647427</td>\n",
       "      <td>30.7057</td>\n",
       "      <td>31.3857</td>\n",
       "      <td>30.6614</td>\n",
       "    </tr>\n",
       "  </tbody>\n",
       "</table>\n",
       "</div>"
      ],
      "text/plain": [
       "            Date    close     volume     open     high      low\n",
       "2517  2010-03-01  29.8557  137312041  29.3928  29.9286  29.3500\n",
       "2516  2010-03-02  29.8357  141486282  29.9900  30.1186  29.6771\n",
       "2515  2010-03-03  29.9043   92846488  29.8486  29.9814  29.7057\n",
       "2514  2010-03-04  30.1014   89591907  29.8971  30.1314  29.8043\n",
       "2513  2010-03-05  31.2786  224647427  30.7057  31.3857  30.6614"
      ]
     },
     "execution_count": 14,
     "metadata": {},
     "output_type": "execute_result"
    }
   ],
   "source": [
    "#change dataframe dtypes to float\n",
    "cols = [i for i in aapl if i not in ['Date','volume']]\n",
    "def to_float(x):\n",
    "    x = x.strip()\n",
    "    return float(x[1:])\n",
    "\n",
    "aapl[cols]=aapl[cols].applymap(to_float)\n",
    "aapl.head()"
   ]
  },
  {
   "cell_type": "code",
   "execution_count": 15,
   "id": "12fae270",
   "metadata": {},
   "outputs": [],
   "source": [
    "#Create Signals using Talib library\n",
    "aapl['Short EMA'] = ta.SMA(np.array(aapl['close']),20)\n",
    "aapl['Long EMA'] = ta.EMA(np.array(aapl['close']), timeperiod = 50)\n",
    "aapl['RSI'] = ta.RSI(np.array(aapl['close']), timeperiod = 14)\n",
    "aapl['MOMENTUM'] = ta.MOM(np.array(aapl['close']), timeperiod=5)\n",
    "aapl['CCI'] = ta.CCI(np.array(aapl['high']), np.array(aapl['low']), np.array(aapl['close']), timeperiod=14)"
   ]
  },
  {
   "cell_type": "code",
   "execution_count": 16,
   "id": "12d34ce7",
   "metadata": {},
   "outputs": [],
   "source": [
    "# create a list of our conditions for moving average cross over buy signal generation\n",
    "conditions = [\n",
    "    (aapl['Short EMA'] > aapl['Long EMA']),\n",
    "    (aapl['Short EMA'] < aapl['Long EMA']),\n",
    "    ]\n",
    "# create a list of the values we want to assign for each condition 1: buy, 0:sell\n",
    "values = [1, 0]\n",
    "# create a new column and use np.select to assign values to it using our lists as arguments\n",
    "aapl['EMA_SIGNAL'] = np.select(conditions, values)"
   ]
  },
  {
   "cell_type": "code",
   "execution_count": 17,
   "id": "a43dd288",
   "metadata": {},
   "outputs": [],
   "source": [
    "# create a list of our conditions for relative strength index rsi signal generation\n",
    "conditions = [\n",
    "    (aapl['RSI'] < 30 ),\n",
    "    (aapl['RSI'] > 70),\n",
    "    ]\n",
    "\n",
    "# create a list of the values we want to assign for each condition 1: buy, 0:sell\n",
    "values = [1, 0]\n",
    "\n",
    "# create a new column and use np.select to assign values to it using our lists as arguments\n",
    "aapl['RSI_SIGNAL'] = np.select(conditions, values)"
   ]
  },
  {
   "cell_type": "code",
   "execution_count": 18,
   "id": "bc5bb9ae",
   "metadata": {},
   "outputs": [],
   "source": [
    "# create a list of our conditions for  Momentum signal generation\n",
    "conditions = [\n",
    "    (aapl['MOMENTUM'] > 0 ),\n",
    "    (aapl['MOMENTUM'] <= 0),\n",
    "    ]\n",
    "\n",
    "# create a list of the values we want to assign for each condition 1: buy, 0: sell\n",
    "values = [1, 0]\n",
    "\n",
    "# create a new column and use np.select to assign values to it using our lists as arguments\n",
    "aapl['MOMENTUM_SIGNAL'] = np.select(conditions, values)"
   ]
  },
  {
   "cell_type": "code",
   "execution_count": 19,
   "id": "d709bee7",
   "metadata": {},
   "outputs": [],
   "source": [
    "# create a list of our conditions for CCI signal generation\n",
    "conditions = [\n",
    "    (aapl['CCI'] > 100 ),\n",
    "    (aapl['CCI'] <= 100),\n",
    "    ]\n",
    "\n",
    "# create a list of the values we want to assign for each condition 1: buy, 0: sell\n",
    "values = [1, 0]\n",
    "\n",
    "# create a new column and use np.select to assign values to it using our lists as arguments\n",
    "aapl['CCI_SIGNAL'] = np.select(conditions, values)"
   ]
  },
  {
   "cell_type": "code",
   "execution_count": 20,
   "id": "9b900024",
   "metadata": {},
   "outputs": [
    {
     "data": {
      "text/html": [
       "<div>\n",
       "<style scoped>\n",
       "    .dataframe tbody tr th:only-of-type {\n",
       "        vertical-align: middle;\n",
       "    }\n",
       "\n",
       "    .dataframe tbody tr th {\n",
       "        vertical-align: top;\n",
       "    }\n",
       "\n",
       "    .dataframe thead th {\n",
       "        text-align: right;\n",
       "    }\n",
       "</style>\n",
       "<table border=\"1\" class=\"dataframe\">\n",
       "  <thead>\n",
       "    <tr style=\"text-align: right;\">\n",
       "      <th></th>\n",
       "      <th>Date</th>\n",
       "      <th>close</th>\n",
       "      <th>volume</th>\n",
       "      <th>open</th>\n",
       "      <th>high</th>\n",
       "      <th>low</th>\n",
       "      <th>Short EMA</th>\n",
       "      <th>Long EMA</th>\n",
       "      <th>RSI</th>\n",
       "      <th>MOMENTUM</th>\n",
       "      <th>CCI</th>\n",
       "      <th>EMA_SIGNAL</th>\n",
       "      <th>RSI_SIGNAL</th>\n",
       "      <th>MOMENTUM_SIGNAL</th>\n",
       "      <th>CCI_SIGNAL</th>\n",
       "    </tr>\n",
       "  </thead>\n",
       "  <tbody>\n",
       "    <tr>\n",
       "      <th>2517</th>\n",
       "      <td>2010-03-01</td>\n",
       "      <td>29.8557</td>\n",
       "      <td>137312041</td>\n",
       "      <td>29.3928</td>\n",
       "      <td>29.9286</td>\n",
       "      <td>29.35</td>\n",
       "      <td>NaN</td>\n",
       "      <td>NaN</td>\n",
       "      <td>NaN</td>\n",
       "      <td>NaN</td>\n",
       "      <td>NaN</td>\n",
       "      <td>0</td>\n",
       "      <td>0</td>\n",
       "      <td>0</td>\n",
       "      <td>0</td>\n",
       "    </tr>\n",
       "  </tbody>\n",
       "</table>\n",
       "</div>"
      ],
      "text/plain": [
       "            Date    close     volume     open     high    low  Short EMA  \\\n",
       "2517  2010-03-01  29.8557  137312041  29.3928  29.9286  29.35        NaN   \n",
       "\n",
       "      Long EMA  RSI  MOMENTUM  CCI  EMA_SIGNAL  RSI_SIGNAL  MOMENTUM_SIGNAL  \\\n",
       "2517       NaN  NaN       NaN  NaN           0           0                0   \n",
       "\n",
       "      CCI_SIGNAL  \n",
       "2517           0  "
      ]
     },
     "execution_count": 20,
     "metadata": {},
     "output_type": "execute_result"
    }
   ],
   "source": [
    "aapl.head(1)"
   ]
  },
  {
   "cell_type": "markdown",
   "id": "553cf07b",
   "metadata": {},
   "source": [
    "#Genetic Algorithmn\n",
    "Step 1: Data Preprocessing\n",
    "Step 2: Signal Generation. EMA crossover, RSI,mOM\n",
    "Step 3: Design Fitness function\n",
    "Step 4: Generate Population\n",
    "        a) Design Chromosone\n",
    "        b) Generate population for entry rule\n",
    "        c) Generate population for exit rule\n",
    "\n",
    "Step 5: Genetic Operators\n",
    "        a)Fitness Function\n",
    "        b) Crossover\n",
    "        c) Mutation\n",
    "Step 6: "
   ]
  },
  {
   "cell_type": "markdown",
   "id": "f3220988",
   "metadata": {},
   "source": [
    "##Chromosone Encoding\n",
    "Construct two groups of chromosones; for buy signal and exit signal\n",
    "Connectors:\n",
    "    AND and:  (00)\n",
    "    OR or:    (01)\n",
    "    NOT not:  (11)\n",
    "     XOR  ^:   (10)\n",
    "    \n",
    "    \n",
    "Chromosone structure : [RSI,connector,connector,EMACROSSOVER,connector,connector,MOMENTUM,connector,connector,CCI]\n"
   ]
  },
  {
   "cell_type": "code",
   "execution_count": 75,
   "id": "83e97050",
   "metadata": {},
   "outputs": [],
   "source": [
    "##Initialize Chromosone population\n",
    "import random\n",
    "\n",
    "def init_population(n):\n",
    "    population =[]\n",
    "    for i in range(n):\n",
    "        # [RSI,connector,connector,EMA_CROSSOVER,connector,connector,MOMENTUM,connector,connector,CCI]\n",
    "        entry_chromosone = [random.randint(0, 1) for _ in range(10)]\n",
    "        exit_chromosone = [random.randint(0, 1) for _ in range(10)]\n",
    "        chromosone_pair = {\"entry_chromosone\":entry_chromosone,\n",
    "                          \"exit_chromosone\":exit_chromosone,\n",
    "                           \"fitness\":1}\n",
    "        population.append(chromosone_pair)\n",
    "            \n",
    "    return population\n",
    "\n"
   ]
  },
  {
   "cell_type": "code",
   "execution_count": 35,
   "id": "b9246e77",
   "metadata": {},
   "outputs": [
    {
     "data": {
      "text/plain": [
       "[{'entry_chromosone': [1, 1, 0, 0, 1, 1, 0, 1, 0, 0],\n",
       "  'exit_chromosone': [0, 1, 1, 1, 0, 0, 0, 1, 1, 0],\n",
       "  'fitness': 0},\n",
       " {'entry_chromosone': [0, 1, 1, 0, 1, 1, 0, 0, 0, 0],\n",
       "  'exit_chromosone': [1, 0, 1, 0, 1, 0, 1, 0, 1, 1],\n",
       "  'fitness': 0}]"
      ]
     },
     "execution_count": 35,
     "metadata": {},
     "output_type": "execute_result"
    }
   ],
   "source": [
    "init_population(2)"
   ]
  },
  {
   "cell_type": "code",
   "execution_count": 23,
   "id": "81e733b4",
   "metadata": {},
   "outputs": [
    {
     "data": {
      "text/plain": [
       "['or', '^', '!=']"
      ]
     },
     "execution_count": 23,
     "metadata": {},
     "output_type": "execute_result"
    }
   ],
   "source": [
    "# convert boolean connectors to python boolean key words\n",
    "def convert_2pythonkey(chromosone):\n",
    "    #[RSI,connector,connector,EMACROSSOVER,connector,connector,MOMENTUM,connector,connector,CCI]\n",
    "    connectors = {'00':'and',\n",
    "                 '01':'or',\n",
    "                 '11':'!=',\n",
    "                 '10':'^'}\n",
    "    \n",
    "    chromosone_connectors = [\n",
    "                        connectors[str(chromosone[1])+str(chromosone[2])],\n",
    "                        connectors[str(chromosone[4])+str(chromosone[5])],\n",
    "                        connectors[str(chromosone[7])+str(chromosone[8])]\n",
    "                       ]\n",
    "    return chromosone_connectors\n",
    "#test function\n",
    "x =[1,0,1,0,1,0,1,1,1,0]\n",
    "\n",
    "convert_2pythonkey(x)"
   ]
  },
  {
   "cell_type": "code",
   "execution_count": 177,
   "id": "11480f1a",
   "metadata": {},
   "outputs": [],
   "source": [
    "#Fitness function\n",
    "\"\"\" \n",
    "\n",
    "[RSI,connector,coonector,EMACROSSOVER,connector,connector,MOMENTUM,connector,connector,CCI]\n",
    "get entry and exit chromosones\n",
    "initialize cost = 0\n",
    "initialize market_position = out \n",
    "transverse the dataframe\n",
    "find rows with matching entry position strategy and add to cost with price\n",
    "change status to'in' market\n",
    "if status is 'in' find rows matching exit chromosone \n",
    "calculate profit\n",
    "if there is no exit till the last; profit = last day SP- entry price\"\"\"\n",
    "def fitness_function(data,entry_chromosone,exit_chromosone):\n",
    "    # Get the entry strategy chromosone\n",
    "    entry = entry_chromosone\n",
    "    #Get the exit strategy chromosone\n",
    "    exit = exit_chromosone\n",
    "    #Convert the bool connectors to python keywords for use in strategy\n",
    "    entry_connectors = convert_2pythonkey(entry)\n",
    "    exit_connectors = convert_2pythonkey(exit)\n",
    "    market_position = 'out'\n",
    "    capital = 1000\n",
    "    number_of_trades = 0\n",
    "    for date in data.itertuples():\n",
    "        if market_position == 'out':\n",
    "            if eval(\"date.CCI_SIGNAL == entry[9] {} date.MOMENTUM_SIGNAL == entry[6] {} date.EMA_SIGNAL== entry[3] {} date.RSI_SIGNAL == entry[0]\".format(entry_connectors[2],entry_connectors[1],entry_connectors[0])):\n",
    "                cost_price = date.close\n",
    "                shares= capital/cost_price\n",
    "                market_position = 'in'\n",
    "                number_of_trades +=1\n",
    "        elif market_position == 'in':\n",
    "            if eval(\"date.CCI_SIGNAL == exit[9] {} date.MOMENTUM_SIGNAL == exit[6] {} date.EMA_SIGNAL== exit[3] {} date.RSI_SIGNAL ==exit[0]\".format(exit_connectors[2],exit_connectors[1],exit_connectors[0])) :\n",
    "                sell_price =date.close\n",
    "                \n",
    "                trade_profit = sell_price - cost_price\n",
    "                trade_return = trade_profit * shares\n",
    "                capital += trade_return\n",
    "                \n",
    "                market_position ='out'\n",
    "    fitness = (capital - 1000)/1000 *100    \n",
    "    if  number_of_trades > 0 and fitness > 0:\n",
    "        return round(fitness,2)\n",
    "    return False\n"
   ]
  },
  {
   "cell_type": "code",
   "execution_count": 178,
   "id": "780ef787",
   "metadata": {},
   "outputs": [],
   "source": [
    "##Evaluate Chromosones\n",
    "\n",
    "def evaluate_chromosones(data,population):\n",
    "    fit_chromosones = []\n",
    "\n",
    "    for chromosone in population:\n",
    "\n",
    "        entry = chromosone[\"entry_chromosone\"]\n",
    "        exit = chromosone[\"exit_chromosone\"]\n",
    "        fitness = fitness_function(data,entry,exit)\n",
    "        if fitness:\n",
    "            chromosone[\"fitness\"] = fitness\n",
    "            fit_chromosones.append(chromosone)\n",
    "    return fit_chromosones\n",
    "\n"
   ]
  },
  {
   "cell_type": "code",
   "execution_count": 179,
   "id": "eee10d68",
   "metadata": {},
   "outputs": [],
   "source": [
    "# Select parents\n",
    "\n",
    "def roulette_wheel_selection(population):\n",
    "  \n",
    "    # Computes the totallity of the population fitness\n",
    "    population_fitness = sum([chromosome['fitness'] for chromosome in population])\n",
    "    \n",
    "    # Computes for each chromosome the probability \n",
    "    chromosome_probabilities = [chromosome['fitness']/population_fitness for chromosome in population]\n",
    "    \n",
    "    # Selects one chromosome based on the computed probabilities\n",
    "    return np.random.choice(population, p=chromosome_probabilities)\n",
    "\n",
    "def selection(population):\n",
    "    selected = []\n",
    "    for i in range(len(population)):\n",
    "        selected.append(roulette_wheel_selection(population))\n",
    "    return selected"
   ]
  },
  {
   "cell_type": "code",
   "execution_count": 180,
   "id": "f6a04196",
   "metadata": {},
   "outputs": [],
   "source": [
    "### Crossover\n",
    "def crossover(parent1,parent2,r_cross):\n",
    "    child1={}\n",
    "    child2={}\n",
    "    # check for recombination\n",
    "    if random.random() < r_cross:\n",
    "        # select crossover point that is not on the end of the string\n",
    "        index = random.randint(1, len(parent1[\"entry_chromosone\"])-2)\n",
    "        # perform crossover\n",
    "        child1 = {\"entry_chromosone\":parent2[\"entry_chromosone\"][:index] + parent1[\"entry_chromosone\"][index:],\n",
    "                              \"exit_chromosone\":parent2[\"exit_chromosone\"][:index] + parent1[\"exit_chromosone\"][index:],\n",
    "                               \"fitness\":0}\n",
    "        child2 = {\"entry_chromosone\":parent1[\"entry_chromosone\"][:index] + parent2[\"entry_chromosone\"][index:],\n",
    "                              \"exit_chromosone\":parent1[\"exit_chromosone\"][:index] + parent2[\"exit_chromosone\"][index:],\n",
    "                               \"fitness\":0}\n",
    "    else:\n",
    "        child1 = parent1\n",
    "        child2 = parent2\n",
    "    return child1,child2\n",
    "    "
   ]
  },
  {
   "cell_type": "code",
   "execution_count": 181,
   "id": "4ad156d0",
   "metadata": {},
   "outputs": [],
   "source": [
    "###Mutation\n",
    "\n",
    "def mutation(chromosone, r_mut):\n",
    "    for i in range(len(chromosone)):\n",
    "        # check for a mutation\n",
    "        if random.random() < r_mut:\n",
    "            # flip the bit\n",
    "            chromosone[i] = 1 - chromosone[i]\n",
    "    return chromosone"
   ]
  },
  {
   "cell_type": "code",
   "execution_count": 182,
   "id": "1eb8ead7",
   "metadata": {},
   "outputs": [],
   "source": [
    "## Simple Genetic Algorithm \n",
    "def genetic_algorithm(data, n_pop,n_iter, r_cross, r_mut):\n",
    "    ##Initialise Population\n",
    "    population = init_population(n_pop)\n",
    "    ##Keep track of the best pair\n",
    "    best = population[0]\n",
    "    \n",
    "    ## Loop for n_iter  times\n",
    "    \n",
    "    for generation in range(n_iter):\n",
    "        ## Calculate Population Fitness\n",
    "        population = evaluate_chromosones(data,population)\n",
    "        ## Select the chromosone pair with the best fitness\n",
    "        for chromosone_pair in population:\n",
    "            if chromosone_pair[\"fitness\"] > best[\"fitness\"]:\n",
    "                best = chromosone_pair\n",
    "        ## Select the fittest for reproduction using roulette_wheel_selection\n",
    "        selected_population = selection(population)\n",
    "        ## Create New Population using  a single point crossover\n",
    "        children = []\n",
    "        for i in range(0, len(selected_population)-1, 2):\n",
    "            \n",
    "            # get selected parents in pairs\n",
    "            parent1,parent2 = selected_population[i],selected_population[i+1]\n",
    "            #crossover and mutation \n",
    "            \n",
    "            child1,child2 = crossover(parent1,parent2,r_cross)\n",
    "            child1[\"entry_chromosone\"] = mutation(child1[\"entry_chromosone\"],r_mut)\n",
    "            child1[\"exit_chromosone\"] = mutation(child1[\"exit_chromosone\"],r_mut)\n",
    "            child2[\"entry_chromosone\"] = mutation(child2[\"entry_chromosone\"],r_mut)\n",
    "            child2[\"exit_chromosone\"] = mutation(child2[\"exit_chromosone\"],r_mut)\n",
    "            children.append(child1)\n",
    "            children.append(child2)\n",
    "            \n",
    "        population = children\n",
    "        \n",
    "    return best\n",
    "       \n"
   ]
  },
  {
   "cell_type": "code",
   "execution_count": 183,
   "id": "25b720a6",
   "metadata": {},
   "outputs": [],
   "source": [
    "#split data\n",
    "train = aapl[(aapl['Date'] <= date(2016,12,31))]\n",
    "test = aapl[(aapl['Date'] > date(2016,12,31))]"
   ]
  },
  {
   "cell_type": "code",
   "execution_count": 188,
   "id": "4f37aaa6",
   "metadata": {},
   "outputs": [
    {
     "data": {
      "text/plain": [
       "{'entry_chromosone': [0, 0, 1, 0, 0, 1, 1, 0, 1, 1],\n",
       " 'exit_chromosone': [0, 0, 0, 1, 0, 1, 0, 0, 0, 1],\n",
       " 'fitness': 452.43}"
      ]
     },
     "execution_count": 188,
     "metadata": {},
     "output_type": "execute_result"
    }
   ],
   "source": [
    "#genetic_algorithm( n_pop.n_iter, r_cross, r_mut)\n",
    "\n",
    "genetic_algorithm(train,50,100,0.9, 0.01)"
   ]
  },
  {
   "cell_type": "markdown",
   "id": "99a2dc6c",
   "metadata": {},
   "source": [
    "#[RSI,connector,connector,EMACROSSOVER,connector,connector,MOMENTUM,connector,connector,CCI]\n",
    "    connectors = {'00':'and',\n",
    "                 '01':'or',\n",
    "                 '11':'!=',\n",
    "                 '10':'^'}\n",
    "    \n",
    "RSI: 0 or EMA 0  or  MOM 1 or CCI 1\n",
    "\n",
    "RSI: 0 and EMA 1 OR MOM 0 and CCI 0\n"
   ]
  },
  {
   "cell_type": "code",
   "execution_count": 189,
   "id": "e77ed342",
   "metadata": {},
   "outputs": [
    {
     "data": {
      "text/plain": [
       "68.89"
      ]
     },
     "execution_count": 189,
     "metadata": {},
     "output_type": "execute_result"
    }
   ],
   "source": [
    "fitness_function(test,[0, 0, 1, 0, 0, 1, 1, 0, 1, 1],[0, 0, 0, 1, 0, 1, 0, 0, 0, 1])"
   ]
  },
  {
   "cell_type": "code",
   "execution_count": 198,
   "id": "ef9fa54d",
   "metadata": {},
   "outputs": [
    {
     "data": {
      "text/html": [
       "<div>\n",
       "<style scoped>\n",
       "    .dataframe tbody tr th:only-of-type {\n",
       "        vertical-align: middle;\n",
       "    }\n",
       "\n",
       "    .dataframe tbody tr th {\n",
       "        vertical-align: top;\n",
       "    }\n",
       "\n",
       "    .dataframe thead th {\n",
       "        text-align: right;\n",
       "    }\n",
       "</style>\n",
       "<table border=\"1\" class=\"dataframe\">\n",
       "  <thead>\n",
       "    <tr style=\"text-align: right;\">\n",
       "      <th></th>\n",
       "      <th>Date</th>\n",
       "      <th>close</th>\n",
       "      <th>volume</th>\n",
       "      <th>open</th>\n",
       "      <th>high</th>\n",
       "      <th>low</th>\n",
       "      <th>Short EMA</th>\n",
       "      <th>Long EMA</th>\n",
       "      <th>RSI</th>\n",
       "      <th>MOMENTUM</th>\n",
       "      <th>CCI</th>\n",
       "      <th>EMA_SIGNAL</th>\n",
       "      <th>RSI_SIGNAL</th>\n",
       "      <th>MOMENTUM_SIGNAL</th>\n",
       "      <th>CCI_SIGNAL</th>\n",
       "    </tr>\n",
       "  </thead>\n",
       "  <tbody>\n",
       "    <tr>\n",
       "      <th>793</th>\n",
       "      <td>2017-01-03</td>\n",
       "      <td>116.15</td>\n",
       "      <td>28769220</td>\n",
       "      <td>115.80</td>\n",
       "      <td>116.3300</td>\n",
       "      <td>114.76</td>\n",
       "      <td>114.8905</td>\n",
       "      <td>113.437575</td>\n",
       "      <td>59.216454</td>\n",
       "      <td>-0.37</td>\n",
       "      <td>-68.366859</td>\n",
       "      <td>1</td>\n",
       "      <td>0</td>\n",
       "      <td>0</td>\n",
       "      <td>0</td>\n",
       "    </tr>\n",
       "    <tr>\n",
       "      <th>792</th>\n",
       "      <td>2017-01-04</td>\n",
       "      <td>116.02</td>\n",
       "      <td>21081620</td>\n",
       "      <td>115.85</td>\n",
       "      <td>116.5100</td>\n",
       "      <td>115.75</td>\n",
       "      <td>115.2360</td>\n",
       "      <td>113.538847</td>\n",
       "      <td>58.318409</td>\n",
       "      <td>-1.24</td>\n",
       "      <td>-41.141128</td>\n",
       "      <td>1</td>\n",
       "      <td>0</td>\n",
       "      <td>0</td>\n",
       "      <td>0</td>\n",
       "    </tr>\n",
       "    <tr>\n",
       "      <th>791</th>\n",
       "      <td>2017-01-05</td>\n",
       "      <td>116.61</td>\n",
       "      <td>22115100</td>\n",
       "      <td>115.92</td>\n",
       "      <td>116.8642</td>\n",
       "      <td>115.81</td>\n",
       "      <td>115.5690</td>\n",
       "      <td>113.659284</td>\n",
       "      <td>61.194745</td>\n",
       "      <td>-0.15</td>\n",
       "      <td>-4.387907</td>\n",
       "      <td>1</td>\n",
       "      <td>0</td>\n",
       "      <td>0</td>\n",
       "      <td>0</td>\n",
       "    </tr>\n",
       "    <tr>\n",
       "      <th>790</th>\n",
       "      <td>2017-01-06</td>\n",
       "      <td>117.91</td>\n",
       "      <td>31714820</td>\n",
       "      <td>116.78</td>\n",
       "      <td>118.1600</td>\n",
       "      <td>116.47</td>\n",
       "      <td>115.9130</td>\n",
       "      <td>113.825979</td>\n",
       "      <td>66.654883</td>\n",
       "      <td>1.18</td>\n",
       "      <td>139.158937</td>\n",
       "      <td>1</td>\n",
       "      <td>0</td>\n",
       "      <td>1</td>\n",
       "      <td>1</td>\n",
       "    </tr>\n",
       "    <tr>\n",
       "      <th>789</th>\n",
       "      <td>2017-01-09</td>\n",
       "      <td>118.99</td>\n",
       "      <td>33420290</td>\n",
       "      <td>117.95</td>\n",
       "      <td>119.4300</td>\n",
       "      <td>117.94</td>\n",
       "      <td>116.2565</td>\n",
       "      <td>114.028490</td>\n",
       "      <td>70.383226</td>\n",
       "      <td>3.17</td>\n",
       "      <td>235.341126</td>\n",
       "      <td>1</td>\n",
       "      <td>0</td>\n",
       "      <td>1</td>\n",
       "      <td>1</td>\n",
       "    </tr>\n",
       "  </tbody>\n",
       "</table>\n",
       "</div>"
      ],
      "text/plain": [
       "           Date   close    volume    open      high     low  Short EMA  \\\n",
       "793  2017-01-03  116.15  28769220  115.80  116.3300  114.76   114.8905   \n",
       "792  2017-01-04  116.02  21081620  115.85  116.5100  115.75   115.2360   \n",
       "791  2017-01-05  116.61  22115100  115.92  116.8642  115.81   115.5690   \n",
       "790  2017-01-06  117.91  31714820  116.78  118.1600  116.47   115.9130   \n",
       "789  2017-01-09  118.99  33420290  117.95  119.4300  117.94   116.2565   \n",
       "\n",
       "       Long EMA        RSI  MOMENTUM         CCI  EMA_SIGNAL  RSI_SIGNAL  \\\n",
       "793  113.437575  59.216454     -0.37  -68.366859           1           0   \n",
       "792  113.538847  58.318409     -1.24  -41.141128           1           0   \n",
       "791  113.659284  61.194745     -0.15   -4.387907           1           0   \n",
       "790  113.825979  66.654883      1.18  139.158937           1           0   \n",
       "789  114.028490  70.383226      3.17  235.341126           1           0   \n",
       "\n",
       "     MOMENTUM_SIGNAL  CCI_SIGNAL  \n",
       "793                0           0  \n",
       "792                0           0  \n",
       "791                0           0  \n",
       "790                1           1  \n",
       "789                1           1  "
      ]
     },
     "execution_count": 198,
     "metadata": {},
     "output_type": "execute_result"
    }
   ],
   "source": [
    "test.head()\n"
   ]
  },
  {
   "cell_type": "code",
   "execution_count": 213,
   "id": "0b1626b7",
   "metadata": {},
   "outputs": [],
   "source": [
    "p = 273.36 - 116.15\n",
    "s = 1000/116.15\n",
    "capital = s * p\n",
    "r =round((capital - 1000)/1000 *100,2) "
   ]
  },
  {
   "cell_type": "code",
   "execution_count": 225,
   "id": "c216e640",
   "metadata": {},
   "outputs": [
    {
     "data": {
      "image/png": "[encoded data removed]",
      "text/plain": [
       "<Figure size 432x288 with 1 Axes>"
      ]
     },
     "metadata": {
      "needs_background": "light"
     },
     "output_type": "display_data"
    }
   ],
   "source": [
    "# multiple lines with legend\n",
    "l = [\"HODL\",\"SGA\"]\n",
    "data = pd.DataFrame([[r,68.89]],columns=l)\n",
    "df = pd.DataFrame({'strategy':l, 'return %':[r,68.89]})\n",
    "ax = df.plot.bar(x='strategy', y='return %', rot=0)"
   ]
  },
  {
   "cell_type": "code",
   "execution_count": 97,
   "id": "a42ad997",
   "metadata": {},
   "outputs": [
    {
     "name": "stdout",
     "output_type": "stream",
     "text": [
      "0\n",
      "1\n",
      "2\n",
      "3\n"
     ]
    }
   ],
   "source": [
    " for i in range(0, 3, 2):\n",
    "            # get selected parents in pairs\n",
    "            print(i)\n",
    "            print(i+1)"
   ]
  },
  {
   "cell_type": "code",
   "execution_count": null,
   "id": "6c8b3062",
   "metadata": {},
   "outputs": [],
   "source": []
  }
 ],
 "metadata": {
  "kernelspec": {
   "display_name": "Python 3 (ipykernel)",
   "language": "python",
   "name": "python3"
  },
  "language_info": {
   "codemirror_mode": {
    "name": "ipython",
    "version": 3
   },
   "file_extension": ".py",
   "mimetype": "text/x-python",
   "name": "python",
   "nbconvert_exporter": "python",
   "pygments_lexer": "ipython3",
   "version": "3.8.8"
  }
 },
 "nbformat": 4,
 "nbformat_minor": 5
}
